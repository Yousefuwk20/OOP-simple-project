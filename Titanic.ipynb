{
 "cells": [
  {
   "cell_type": "markdown",
   "id": "8ccf45d6",
   "metadata": {},
   "source": [
    "# EDA"
   ]
  },
  {
   "cell_type": "code",
   "execution_count": 101,
   "id": "094824c8",
   "metadata": {
    "ExecuteTime": {
     "end_time": "2023-09-16T23:02:30.619936Z",
     "start_time": "2023-09-16T23:02:30.552546Z"
    }
   },
   "outputs": [],
   "source": [
    "import pandas as pd \n",
    "import matplotlib.pyplot as plt\n",
    "import seaborn as sns"
   ]
  },
  {
   "cell_type": "code",
   "execution_count": 2,
   "id": "43ffbb9c",
   "metadata": {
    "ExecuteTime": {
     "end_time": "2023-09-16T21:58:57.390700Z",
     "start_time": "2023-09-16T21:58:57.346376Z"
    }
   },
   "outputs": [
    {
     "data": {
      "text/html": [
       "<div>\n",
       "<style scoped>\n",
       "    .dataframe tbody tr th:only-of-type {\n",
       "        vertical-align: middle;\n",
       "    }\n",
       "\n",
       "    .dataframe tbody tr th {\n",
       "        vertical-align: top;\n",
       "    }\n",
       "\n",
       "    .dataframe thead th {\n",
       "        text-align: right;\n",
       "    }\n",
       "</style>\n",
       "<table border=\"1\" class=\"dataframe\">\n",
       "  <thead>\n",
       "    <tr style=\"text-align: right;\">\n",
       "      <th></th>\n",
       "      <th>PassengerId</th>\n",
       "      <th>Survived</th>\n",
       "      <th>Pclass</th>\n",
       "      <th>Name</th>\n",
       "      <th>Sex</th>\n",
       "      <th>Age</th>\n",
       "      <th>SibSp</th>\n",
       "      <th>Parch</th>\n",
       "      <th>Ticket</th>\n",
       "      <th>Fare</th>\n",
       "      <th>Cabin</th>\n",
       "      <th>Embarked</th>\n",
       "    </tr>\n",
       "  </thead>\n",
       "  <tbody>\n",
       "    <tr>\n",
       "      <th>0</th>\n",
       "      <td>1</td>\n",
       "      <td>0</td>\n",
       "      <td>3</td>\n",
       "      <td>Braund, Mr. Owen Harris</td>\n",
       "      <td>male</td>\n",
       "      <td>22.0</td>\n",
       "      <td>1</td>\n",
       "      <td>0</td>\n",
       "      <td>A/5 21171</td>\n",
       "      <td>7.2500</td>\n",
       "      <td>NaN</td>\n",
       "      <td>S</td>\n",
       "    </tr>\n",
       "    <tr>\n",
       "      <th>1</th>\n",
       "      <td>2</td>\n",
       "      <td>1</td>\n",
       "      <td>1</td>\n",
       "      <td>Cumings, Mrs. John Bradley (Florence Briggs Th...</td>\n",
       "      <td>female</td>\n",
       "      <td>38.0</td>\n",
       "      <td>1</td>\n",
       "      <td>0</td>\n",
       "      <td>PC 17599</td>\n",
       "      <td>71.2833</td>\n",
       "      <td>C85</td>\n",
       "      <td>C</td>\n",
       "    </tr>\n",
       "    <tr>\n",
       "      <th>2</th>\n",
       "      <td>3</td>\n",
       "      <td>1</td>\n",
       "      <td>3</td>\n",
       "      <td>Heikkinen, Miss. Laina</td>\n",
       "      <td>female</td>\n",
       "      <td>26.0</td>\n",
       "      <td>0</td>\n",
       "      <td>0</td>\n",
       "      <td>STON/O2. 3101282</td>\n",
       "      <td>7.9250</td>\n",
       "      <td>NaN</td>\n",
       "      <td>S</td>\n",
       "    </tr>\n",
       "    <tr>\n",
       "      <th>3</th>\n",
       "      <td>4</td>\n",
       "      <td>1</td>\n",
       "      <td>1</td>\n",
       "      <td>Futrelle, Mrs. Jacques Heath (Lily May Peel)</td>\n",
       "      <td>female</td>\n",
       "      <td>35.0</td>\n",
       "      <td>1</td>\n",
       "      <td>0</td>\n",
       "      <td>113803</td>\n",
       "      <td>53.1000</td>\n",
       "      <td>C123</td>\n",
       "      <td>S</td>\n",
       "    </tr>\n",
       "    <tr>\n",
       "      <th>4</th>\n",
       "      <td>5</td>\n",
       "      <td>0</td>\n",
       "      <td>3</td>\n",
       "      <td>Allen, Mr. William Henry</td>\n",
       "      <td>male</td>\n",
       "      <td>35.0</td>\n",
       "      <td>0</td>\n",
       "      <td>0</td>\n",
       "      <td>373450</td>\n",
       "      <td>8.0500</td>\n",
       "      <td>NaN</td>\n",
       "      <td>S</td>\n",
       "    </tr>\n",
       "  </tbody>\n",
       "</table>\n",
       "</div>"
      ],
      "text/plain": [
       "   PassengerId  Survived  Pclass  \\\n",
       "0            1         0       3   \n",
       "1            2         1       1   \n",
       "2            3         1       3   \n",
       "3            4         1       1   \n",
       "4            5         0       3   \n",
       "\n",
       "                                                Name     Sex   Age  SibSp  \\\n",
       "0                            Braund, Mr. Owen Harris    male  22.0      1   \n",
       "1  Cumings, Mrs. John Bradley (Florence Briggs Th...  female  38.0      1   \n",
       "2                             Heikkinen, Miss. Laina  female  26.0      0   \n",
       "3       Futrelle, Mrs. Jacques Heath (Lily May Peel)  female  35.0      1   \n",
       "4                           Allen, Mr. William Henry    male  35.0      0   \n",
       "\n",
       "   Parch            Ticket     Fare Cabin Embarked  \n",
       "0      0         A/5 21171   7.2500   NaN        S  \n",
       "1      0          PC 17599  71.2833   C85        C  \n",
       "2      0  STON/O2. 3101282   7.9250   NaN        S  \n",
       "3      0            113803  53.1000  C123        S  \n",
       "4      0            373450   8.0500   NaN        S  "
      ]
     },
     "execution_count": 2,
     "metadata": {},
     "output_type": "execute_result"
    }
   ],
   "source": [
    "df = pd.read_csv(\"train.csv\")\n",
    "df.head()"
   ]
  },
  {
   "cell_type": "code",
   "execution_count": 3,
   "id": "d42ee01d",
   "metadata": {
    "ExecuteTime": {
     "end_time": "2023-09-16T21:58:57.406650Z",
     "start_time": "2023-09-16T21:58:57.392386Z"
    }
   },
   "outputs": [],
   "source": [
    "df = df.drop(['PassengerId','Name','Ticket','Cabin'] , axis='columns')"
   ]
  },
  {
   "cell_type": "code",
   "execution_count": 99,
   "id": "537595f8",
   "metadata": {
    "ExecuteTime": {
     "end_time": "2023-09-16T22:59:02.298137Z",
     "start_time": "2023-09-16T22:59:02.277544Z"
    }
   },
   "outputs": [
    {
     "name": "stdout",
     "output_type": "stream",
     "text": [
      "<class 'pandas.core.frame.DataFrame'>\n",
      "RangeIndex: 889 entries, 0 to 888\n",
      "Data columns (total 8 columns):\n",
      " #   Column    Non-Null Count  Dtype  \n",
      "---  ------    --------------  -----  \n",
      " 0   Survived  889 non-null    float64\n",
      " 1   Pclass    889 non-null    float64\n",
      " 2   Sex       889 non-null    float64\n",
      " 3   Age       889 non-null    float64\n",
      " 4   SibSp     889 non-null    float64\n",
      " 5   Parch     889 non-null    float64\n",
      " 6   Fare      889 non-null    float64\n",
      " 7   Embarked  889 non-null    float64\n",
      "dtypes: float64(8)\n",
      "memory usage: 55.7 KB\n"
     ]
    }
   ],
   "source": [
    "df.info()"
   ]
  },
  {
   "cell_type": "code",
   "execution_count": 5,
   "id": "8dd7b3b6",
   "metadata": {
    "ExecuteTime": {
     "end_time": "2023-09-16T21:58:57.438705Z",
     "start_time": "2023-09-16T21:58:57.423677Z"
    }
   },
   "outputs": [],
   "source": [
    "df.dropna(subset=['Embarked'], inplace=True)"
   ]
  },
  {
   "cell_type": "code",
   "execution_count": 7,
   "id": "ec7b632f",
   "metadata": {
    "ExecuteTime": {
     "end_time": "2023-09-16T21:58:57.834427Z",
     "start_time": "2023-09-16T21:58:57.474401Z"
    },
    "scrolled": true
   },
   "outputs": [
    {
     "data": {
      "text/plain": [
       "Text(0, 0.5, 'Frequency')"
      ]
     },
     "execution_count": 7,
     "metadata": {},
     "output_type": "execute_result"
    },
    {
     "data": {
      "image/png": "[encoded data removed]",
      "text/plain": [
       "<Figure size 800x600 with 1 Axes>"
      ]
     },
     "metadata": {},
     "output_type": "display_data"
    }
   ],
   "source": [
    "plt.figure(figsize=(8,6))\n",
    "plt.hist(df['Age'], bins = 50)\n",
    "plt.title(\"Age Distribution\")\n",
    "plt.xlabel('Age')\n",
    "plt.ylabel('Frequency')"
   ]
  },
  {
   "cell_type": "code",
   "execution_count": 134,
   "id": "a9ff2c45",
   "metadata": {
    "ExecuteTime": {
     "end_time": "2023-09-16T23:30:08.683255Z",
     "start_time": "2023-09-16T23:30:08.278729Z"
    }
   },
   "outputs": [
    {
     "data": {
      "text/plain": [
       "<Axes: xlabel='Fare', ylabel='Count'>"
      ]
     },
     "execution_count": 134,
     "metadata": {},
     "output_type": "execute_result"
    },
    {
     "data": {
      "image/png": "[encoded data removed]",
      "text/plain": [
       "<Figure size 640x480 with 1 Axes>"
      ]
     },
     "metadata": {},
     "output_type": "display_data"
    }
   ],
   "source": [
    "sns.histplot(data=df, x=\"Fare\")"
   ]
  },
  {
   "cell_type": "markdown",
   "id": "4e4ea150",
   "metadata": {},
   "source": [
    "# Data preprocessing"
   ]
  },
  {
   "cell_type": "code",
   "execution_count": 129,
   "id": "4b690f78",
   "metadata": {
    "ExecuteTime": {
     "end_time": "2023-09-16T23:28:23.930685Z",
     "start_time": "2023-09-16T23:28:23.908550Z"
    }
   },
   "outputs": [],
   "source": [
    "from sklearn.preprocessing import LabelEncoder\n",
    "from sklearn.preprocessing import MinMaxScaler"
   ]
  },
  {
   "cell_type": "code",
   "execution_count": 130,
   "id": "60185be8",
   "metadata": {
    "ExecuteTime": {
     "end_time": "2023-09-16T23:28:35.345450Z",
     "start_time": "2023-09-16T23:28:35.320212Z"
    }
   },
   "outputs": [],
   "source": [
    "#Encoding categorical values\n",
    "encoder = LabelEncoder()\n",
    "df['Sex'] = encoder.fit_transform(df['Sex'])\n",
    "df['Embarked'] = encoder.fit_transform(df['Embarked'])"
   ]
  },
  {
   "cell_type": "code",
   "execution_count": 132,
   "id": "3a854786",
   "metadata": {
    "ExecuteTime": {
     "end_time": "2023-09-16T23:29:05.859450Z",
     "start_time": "2023-09-16T23:29:05.827568Z"
    }
   },
   "outputs": [
    {
     "data": {
      "text/html": [
       "<div>\n",
       "<style scoped>\n",
       "    .dataframe tbody tr th:only-of-type {\n",
       "        vertical-align: middle;\n",
       "    }\n",
       "\n",
       "    .dataframe tbody tr th {\n",
       "        vertical-align: top;\n",
       "    }\n",
       "\n",
       "    .dataframe thead th {\n",
       "        text-align: right;\n",
       "    }\n",
       "</style>\n",
       "<table border=\"1\" class=\"dataframe\">\n",
       "  <thead>\n",
       "    <tr style=\"text-align: right;\">\n",
       "      <th></th>\n",
       "      <th>Survived</th>\n",
       "      <th>Pclass</th>\n",
       "      <th>Sex</th>\n",
       "      <th>Age</th>\n",
       "      <th>SibSp</th>\n",
       "      <th>Parch</th>\n",
       "      <th>Fare</th>\n",
       "      <th>Embarked</th>\n",
       "    </tr>\n",
       "  </thead>\n",
       "  <tbody>\n",
       "    <tr>\n",
       "      <th>0</th>\n",
       "      <td>0.0</td>\n",
       "      <td>3.0</td>\n",
       "      <td>1</td>\n",
       "      <td>0.271174</td>\n",
       "      <td>1.0</td>\n",
       "      <td>0.0</td>\n",
       "      <td>0.014151</td>\n",
       "      <td>2</td>\n",
       "    </tr>\n",
       "    <tr>\n",
       "      <th>1</th>\n",
       "      <td>1.0</td>\n",
       "      <td>1.0</td>\n",
       "      <td>0</td>\n",
       "      <td>0.472229</td>\n",
       "      <td>1.0</td>\n",
       "      <td>0.0</td>\n",
       "      <td>0.139136</td>\n",
       "      <td>0</td>\n",
       "    </tr>\n",
       "    <tr>\n",
       "      <th>2</th>\n",
       "      <td>1.0</td>\n",
       "      <td>3.0</td>\n",
       "      <td>0</td>\n",
       "      <td>0.321438</td>\n",
       "      <td>0.0</td>\n",
       "      <td>0.0</td>\n",
       "      <td>0.015469</td>\n",
       "      <td>2</td>\n",
       "    </tr>\n",
       "    <tr>\n",
       "      <th>3</th>\n",
       "      <td>1.0</td>\n",
       "      <td>1.0</td>\n",
       "      <td>0</td>\n",
       "      <td>0.434531</td>\n",
       "      <td>1.0</td>\n",
       "      <td>0.0</td>\n",
       "      <td>0.103644</td>\n",
       "      <td>2</td>\n",
       "    </tr>\n",
       "    <tr>\n",
       "      <th>4</th>\n",
       "      <td>0.0</td>\n",
       "      <td>3.0</td>\n",
       "      <td>1</td>\n",
       "      <td>0.434531</td>\n",
       "      <td>0.0</td>\n",
       "      <td>0.0</td>\n",
       "      <td>0.015713</td>\n",
       "      <td>2</td>\n",
       "    </tr>\n",
       "  </tbody>\n",
       "</table>\n",
       "</div>"
      ],
      "text/plain": [
       "   Survived  Pclass  Sex       Age  SibSp  Parch      Fare  Embarked\n",
       "0       0.0     3.0    1  0.271174    1.0    0.0  0.014151         2\n",
       "1       1.0     1.0    0  0.472229    1.0    0.0  0.139136         0\n",
       "2       1.0     3.0    0  0.321438    0.0    0.0  0.015469         2\n",
       "3       1.0     1.0    0  0.434531    1.0    0.0  0.103644         2\n",
       "4       0.0     3.0    1  0.434531    0.0    0.0  0.015713         2"
      ]
     },
     "execution_count": 132,
     "metadata": {},
     "output_type": "execute_result"
    }
   ],
   "source": [
    "scaler = MinMaxScaler()\n",
    "df[['Age', 'Fare']] = scaler.fit_transform(df[['Age', 'Fare']])"
   ]
  },
  {
   "cell_type": "markdown",
   "id": "02f9ccc3",
   "metadata": {},
   "source": [
    "# Replace NaN values in Age"
   ]
  },
  {
   "cell_type": "code",
   "execution_count": 113,
   "id": "83159bc1",
   "metadata": {
    "ExecuteTime": {
     "end_time": "2023-09-16T23:16:58.679840Z",
     "start_time": "2023-09-16T23:16:58.667576Z"
    }
   },
   "outputs": [
    {
     "data": {
      "text/plain": [
       "Index(['Survived', 'Pclass', 'Sex', 'Age', 'SibSp', 'Parch', 'Fare',\n",
       "       'Embarked'],\n",
       "      dtype='object')"
      ]
     },
     "execution_count": 113,
     "metadata": {},
     "output_type": "execute_result"
    }
   ],
   "source": [
    "columns = df.columns\n",
    "columns"
   ]
  },
  {
   "cell_type": "code",
   "execution_count": 9,
   "id": "65af93d0",
   "metadata": {
    "ExecuteTime": {
     "end_time": "2023-09-16T21:58:59.216287Z",
     "start_time": "2023-09-16T21:58:57.850181Z"
    }
   },
   "outputs": [],
   "source": [
    "from sklearn.impute import KNNImputer"
   ]
  },
  {
   "cell_type": "code",
   "execution_count": 11,
   "id": "fafd5088",
   "metadata": {
    "ExecuteTime": {
     "end_time": "2023-09-16T21:58:59.372830Z",
     "start_time": "2023-09-16T21:58:59.342755Z"
    }
   },
   "outputs": [],
   "source": [
    "imputer = KNNImputer(n_neighbors=2)\n",
    "df = imputer.fit_transform(df)"
   ]
  },
  {
   "cell_type": "code",
   "execution_count": 12,
   "id": "18dad9a8",
   "metadata": {
    "ExecuteTime": {
     "end_time": "2023-09-16T21:59:00.272238Z",
     "start_time": "2023-09-16T21:59:00.252643Z"
    }
   },
   "outputs": [],
   "source": [
    "df = pd.DataFrame(df, columns= columns)"
   ]
  },
  {
   "cell_type": "code",
   "execution_count": 15,
   "id": "e7d9e03c",
   "metadata": {
    "ExecuteTime": {
     "end_time": "2023-09-16T21:59:21.381194Z",
     "start_time": "2023-09-16T21:59:21.003601Z"
    }
   },
   "outputs": [
    {
     "data": {
      "text/plain": [
       "Text(0, 0.5, 'Frequency')"
      ]
     },
     "execution_count": 15,
     "metadata": {},
     "output_type": "execute_result"
    },
    {
     "data": {
      "image/png": "[encoded data removed]",
      "text/plain": [
       "<Figure size 800x600 with 1 Axes>"
      ]
     },
     "metadata": {},
     "output_type": "display_data"
    }
   ],
   "source": [
    "plt.figure(figsize=(8,6))\n",
    "plt.hist(df['Age'], bins = 50)\n",
    "plt.title(\"Age Distribution\")\n",
    "plt.xlabel('Age')\n",
    "plt.ylabel('Frequency')"
   ]
  },
  {
   "cell_type": "markdown",
   "id": "bf586e99",
   "metadata": {},
   "source": [
    "# ML Models"
   ]
  },
  {
   "cell_type": "code",
   "execution_count": 26,
   "id": "bd2e6bcd",
   "metadata": {
    "ExecuteTime": {
     "end_time": "2023-09-16T22:03:30.189068Z",
     "start_time": "2023-09-16T22:03:30.170973Z"
    }
   },
   "outputs": [],
   "source": [
    "X = df.iloc[ : , 1:]\n",
    "y = df.iloc[ : , 0]"
   ]
  },
  {
   "cell_type": "code",
   "execution_count": 163,
   "id": "b3f17127",
   "metadata": {
    "ExecuteTime": {
     "end_time": "2023-09-16T23:52:11.499590Z",
     "start_time": "2023-09-16T23:52:11.484810Z"
    }
   },
   "outputs": [],
   "source": [
    "from sklearn.model_selection import train_test_split\n",
    "from sklearn.metrics import confusion_matrix\n",
    "from sklearn.linear_model import LogisticRegression\n",
    "from sklearn.ensemble import RandomForestClassifier\n",
    "from sklearn.tree import DecisionTreeClassifier\n",
    "from sklearn.neighbors import KNeighborsClassifier\n",
    "from sklearn.svm import SVC\n",
    "from tpot import TPOTClassifier\n",
    "from sklearn.ensemble import ExtraTreesClassifier"
   ]
  },
  {
   "cell_type": "code",
   "execution_count": 86,
   "id": "ad687d41",
   "metadata": {
    "ExecuteTime": {
     "end_time": "2023-09-16T22:39:58.164018Z",
     "start_time": "2023-09-16T22:39:58.140497Z"
    }
   },
   "outputs": [],
   "source": [
    "X_train, X_test, y_train, y_test = train_test_split(X, y, test_size=.2)"
   ]
  },
  {
   "cell_type": "markdown",
   "id": "dae64c1e",
   "metadata": {},
   "source": [
    "# LogisticRegression"
   ]
  },
  {
   "cell_type": "code",
   "execution_count": 169,
   "id": "365ab1fd",
   "metadata": {
    "ExecuteTime": {
     "end_time": "2023-09-16T23:53:13.401502Z",
     "start_time": "2023-09-16T23:53:13.346494Z"
    }
   },
   "outputs": [
    {
     "name": "stdout",
     "output_type": "stream",
     "text": [
      "Train:  79.466\n",
      "Test:  86.517\n"
     ]
    },
    {
     "name": "stderr",
     "output_type": "stream",
     "text": [
      "C:\\Users\\youse\\anaconda3\\lib\\site-packages\\sklearn\\linear_model\\_logistic.py:460: ConvergenceWarning: lbfgs failed to converge (status=1):\n",
      "STOP: TOTAL NO. of ITERATIONS REACHED LIMIT.\n",
      "\n",
      "Increase the number of iterations (max_iter) or scale the data as shown in:\n",
      "    https://scikit-learn.org/stable/modules/preprocessing.html\n",
      "Please also refer to the documentation for alternative solver options:\n",
      "    https://scikit-learn.org/stable/modules/linear_model.html#logistic-regression\n",
      "  n_iter_i = _check_optimize_result(\n"
     ]
    }
   ],
   "source": [
    "logreg = LogisticRegression()\n",
    "logreg.fit(X_train, y_train)\n",
    "acc_log = round(logreg.score(X_train, y_train) * 100, 3)\n",
    "log = round(logreg.score(X_test, y_test) * 100, 3)\n",
    "print(\"Train: \", acc_log)\n",
    "print(\"Test: \", log)"
   ]
  },
  {
   "cell_type": "markdown",
   "id": "aab3ece7",
   "metadata": {},
   "source": [
    "# SVC"
   ]
  },
  {
   "cell_type": "code",
   "execution_count": 152,
   "id": "e7c60f9a",
   "metadata": {
    "ExecuteTime": {
     "end_time": "2023-09-16T23:48:43.765141Z",
     "start_time": "2023-09-16T23:48:40.201605Z"
    }
   },
   "outputs": [
    {
     "name": "stdout",
     "output_type": "stream",
     "text": [
      "Train:  77.215\n",
      "Test:  87.079\n"
     ]
    }
   ],
   "source": [
    "SVC = SVC(kernel= 'linear', C= 1)\n",
    "SVC.fit(X_train, y_train)\n",
    "acc_svc = round(SVC.score(X_train, y_train) * 100, 3)\n",
    "svc = round(SVC.score(X_test, y_test) * 100, 3)\n",
    "print(\"Train: \", acc_svc)\n",
    "print(\"Test: \", svc)"
   ]
  },
  {
   "cell_type": "markdown",
   "id": "fecd7f1d",
   "metadata": {},
   "source": [
    "# RandomForestClassifier"
   ]
  },
  {
   "cell_type": "code",
   "execution_count": 155,
   "id": "3d6e776e",
   "metadata": {
    "ExecuteTime": {
     "end_time": "2023-09-16T23:49:27.325828Z",
     "start_time": "2023-09-16T23:49:27.027577Z"
    }
   },
   "outputs": [
    {
     "name": "stdout",
     "output_type": "stream",
     "text": [
      "Train:  98.875\n",
      "Test:  87.64\n"
     ]
    }
   ],
   "source": [
    "RandomForestClassifier = RandomForestClassifier(n_estimators=100)\n",
    "RandomForestClassifier.fit(X_train, y_train)\n",
    "acc_random_forest = round(RandomForestClassifier.score(X_train, y_train) * 100, 3) \n",
    "random_forest = round(RandomForestClassifier.score(X_test, y_test) * 100, 3) \n",
    "print(\"Train: \", acc_random_forest)\n",
    "print(\"Test: \", random_forest)"
   ]
  },
  {
   "cell_type": "markdown",
   "id": "ae6bf965",
   "metadata": {},
   "source": [
    "# DecisionTreeClassifier"
   ]
  },
  {
   "cell_type": "code",
   "execution_count": 156,
   "id": "f3b4899a",
   "metadata": {
    "ExecuteTime": {
     "end_time": "2023-09-16T23:49:58.207657Z",
     "start_time": "2023-09-16T23:49:58.182561Z"
    }
   },
   "outputs": [
    {
     "name": "stdout",
     "output_type": "stream",
     "text": [
      "Train:  98.875\n",
      "Test:  82.584\n"
     ]
    }
   ],
   "source": [
    "DecisionTreeClassifier = DecisionTreeClassifier()\n",
    "DecisionTreeClassifier.fit(X_train, y_train)\n",
    "acc_decision_tree = round(DecisionTreeClassifier.score(X_train, y_train) * 100, 3)\n",
    "decision_tree = round(DecisionTreeClassifier.score(X_test, y_test) * 100, 3)\n",
    "print(\"Train: \",acc_decision_tree)\n",
    "print(\"Test: \", decision_tree)"
   ]
  },
  {
   "cell_type": "markdown",
   "id": "acc9ad00",
   "metadata": {},
   "source": [
    "# KNN"
   ]
  },
  {
   "cell_type": "code",
   "execution_count": 160,
   "id": "d0675657",
   "metadata": {
    "ExecuteTime": {
     "end_time": "2023-09-16T23:51:14.940134Z",
     "start_time": "2023-09-16T23:51:14.877944Z"
    }
   },
   "outputs": [
    {
     "name": "stdout",
     "output_type": "stream",
     "text": [
      "Train:  83.685\n",
      "Test:  77.528\n"
     ]
    }
   ],
   "source": [
    "KNeighborsClassifier = KNeighborsClassifier(n_neighbors = 3)\n",
    "KNeighborsClassifier.fit(X_train, y_train)\n",
    "acc_knn = round(KNeighborsClassifier.score(X_train, y_train) * 100, 3)\n",
    "knn = round(KNeighborsClassifier.score(X_test, y_test) * 100, 3)\n",
    "print(\"Train: \", acc_knn)\n",
    "print(\"Test: \", knn)"
   ]
  },
  {
   "cell_type": "markdown",
   "id": "6b9e7116",
   "metadata": {},
   "source": [
    "# TPOTClassifier\n",
    "## To get the best pipeline"
   ]
  },
  {
   "cell_type": "code",
   "execution_count": 93,
   "id": "fc67ac02",
   "metadata": {
    "ExecuteTime": {
     "end_time": "2023-09-16T22:54:03.359274Z",
     "start_time": "2023-09-16T22:44:01.324250Z"
    }
   },
   "outputs": [
    {
     "name": "stdout",
     "output_type": "stream",
     "text": [
      "                                                                                                                       \n",
      "Generation 1 - Current best internal CV score: 0.8171771890081748\n",
      "                                                                                                                       \n",
      "Generation 2 - Current best internal CV score: 0.8171771890081748\n",
      "                                                                                                                       \n",
      "Generation 3 - Current best internal CV score: 0.8228208411307003\n",
      "                                                                                                                       \n",
      "Generation 4 - Current best internal CV score: 0.8228208411307003\n",
      "                                                                                                                       \n",
      "Generation 5 - Current best internal CV score: 0.825627893233527\n",
      "                                                                                                                       \n",
      "Generation 6 - Current best internal CV score: 0.825627893233527\n",
      "                                                                                                                       \n",
      "Generation 7 - Current best internal CV score: 0.825627893233527\n",
      "                                                                                                                       \n",
      "10.01 minutes have elapsed. TPOT will close down.                                                                      \n",
      "TPOT closed during evaluation in one generation.\n",
      "WARNING: TPOT may not provide a good pipeline if TPOT is stopped/interrupted in a early generation.\n",
      "                                                                                                                       \n",
      "                                                                                                                       \n",
      "TPOT closed prematurely. Will use the current best pipeline.\n",
      "                                                                                                                       \n",
      "Best pipeline: ExtraTreesClassifier(input_matrix, bootstrap=True, criterion=gini, max_features=0.6500000000000001, min_samples_leaf=1, min_samples_split=6, n_estimators=100)\n",
      "Train:  0.9085794655414908\n",
      "Test:  0.8876404494382022\n"
     ]
    }
   ],
   "source": [
    "tpot = TPOTClassifier(verbosity=2, max_time_mins=10)\n",
    "tpot.fit(X_train, y_train)\n",
    "print(\"Train: \", tpot.score(X_train, y_train))\n",
    "print(\"Test: \", tpot.score(X_test, y_test))"
   ]
  },
  {
   "cell_type": "markdown",
   "id": "22cd1caa",
   "metadata": {},
   "source": [
    "# ExtraTreesClassifier"
   ]
  },
  {
   "cell_type": "code",
   "execution_count": 164,
   "id": "e927f627",
   "metadata": {
    "ExecuteTime": {
     "end_time": "2023-09-16T23:52:19.137163Z",
     "start_time": "2023-09-16T23:52:18.871007Z"
    }
   },
   "outputs": [
    {
     "name": "stdout",
     "output_type": "stream",
     "text": [
      "Train:  90.295\n",
      "Test:  89.888\n"
     ]
    }
   ],
   "source": [
    "ExtraTreesClassifier = ExtraTreesClassifier(\n",
    "    bootstrap=True,\n",
    "    criterion='gini',\n",
    "    max_features=0.65,\n",
    "    min_samples_leaf=1,\n",
    "    min_samples_split=6,\n",
    "    n_estimators=100,\n",
    "    random_state=42\n",
    ")\n",
    "ExtraTreesClassifier.fit(X_train, y_train)\n",
    "acc_extra_tree = round(ExtraTreesClassifier.score(X_train, y_train) * 100, 3)\n",
    "extra_tree = round(ExtraTreesClassifier.score(X_test, y_test) * 100, 3)\n",
    "print(\"Train: \", acc_extra_tree)\n",
    "print(\"Test: \", extra_tree)"
   ]
  },
  {
   "cell_type": "markdown",
   "id": "578ad3a8",
   "metadata": {},
   "source": [
    "## Confusion matrix to show how many times the model went wrong."
   ]
  },
  {
   "cell_type": "code",
   "execution_count": 167,
   "id": "c644c99e",
   "metadata": {
    "ExecuteTime": {
     "end_time": "2023-09-16T23:52:35.890396Z",
     "start_time": "2023-09-16T23:52:35.627074Z"
    },
    "scrolled": true
   },
   "outputs": [
    {
     "data": {
      "text/plain": [
       "Text(70.72222222222221, 0.5, 'Truth')"
      ]
     },
     "execution_count": 167,
     "metadata": {},
     "output_type": "execute_result"
    },
    {
     "data": {
      "image/png": "[encoded data removed]",
      "text/plain": [
       "<Figure size 800x600 with 2 Axes>"
      ]
     },
     "metadata": {},
     "output_type": "display_data"
    }
   ],
   "source": [
    "y_predicted = etc.predict(X_test)\n",
    "cm = confusion_matrix(y_test, y_predicted)\n",
    "plt.figure(figsize=(8,6))\n",
    "sns.heatmap(cm, annot=True)\n",
    "plt.xlabel('Predicted')\n",
    "plt.ylabel('Truth')"
   ]
  },
  {
   "cell_type": "code",
   "execution_count": 171,
   "id": "c76b9868",
   "metadata": {
    "ExecuteTime": {
     "end_time": "2023-09-16T23:53:35.028353Z",
     "start_time": "2023-09-16T23:53:35.001387Z"
    }
   },
   "outputs": [
    {
     "data": {
      "text/html": [
       "<div>\n",
       "<style scoped>\n",
       "    .dataframe tbody tr th:only-of-type {\n",
       "        vertical-align: middle;\n",
       "    }\n",
       "\n",
       "    .dataframe tbody tr th {\n",
       "        vertical-align: top;\n",
       "    }\n",
       "\n",
       "    .dataframe thead th {\n",
       "        text-align: right;\n",
       "    }\n",
       "</style>\n",
       "<table border=\"1\" class=\"dataframe\">\n",
       "  <thead>\n",
       "    <tr style=\"text-align: right;\">\n",
       "      <th></th>\n",
       "      <th>Model</th>\n",
       "      <th>Training_score</th>\n",
       "      <th>Testing_score</th>\n",
       "    </tr>\n",
       "  </thead>\n",
       "  <tbody>\n",
       "    <tr>\n",
       "      <th>5</th>\n",
       "      <td>ExtraTreesClassifier</td>\n",
       "      <td>90.295</td>\n",
       "      <td>89.888</td>\n",
       "    </tr>\n",
       "    <tr>\n",
       "      <th>3</th>\n",
       "      <td>Random Forest</td>\n",
       "      <td>98.875</td>\n",
       "      <td>87.640</td>\n",
       "    </tr>\n",
       "    <tr>\n",
       "      <th>0</th>\n",
       "      <td>Support Vector Machines</td>\n",
       "      <td>77.215</td>\n",
       "      <td>87.079</td>\n",
       "    </tr>\n",
       "    <tr>\n",
       "      <th>2</th>\n",
       "      <td>Logistic Regression</td>\n",
       "      <td>79.466</td>\n",
       "      <td>86.517</td>\n",
       "    </tr>\n",
       "    <tr>\n",
       "      <th>4</th>\n",
       "      <td>Decision Tree</td>\n",
       "      <td>98.875</td>\n",
       "      <td>82.584</td>\n",
       "    </tr>\n",
       "    <tr>\n",
       "      <th>1</th>\n",
       "      <td>KNN</td>\n",
       "      <td>83.685</td>\n",
       "      <td>77.528</td>\n",
       "    </tr>\n",
       "  </tbody>\n",
       "</table>\n",
       "</div>"
      ],
      "text/plain": [
       "                     Model  Training_score  Testing_score\n",
       "5     ExtraTreesClassifier          90.295         89.888\n",
       "3            Random Forest          98.875         87.640\n",
       "0  Support Vector Machines          77.215         87.079\n",
       "2      Logistic Regression          79.466         86.517\n",
       "4            Decision Tree          98.875         82.584\n",
       "1                      KNN          83.685         77.528"
      ]
     },
     "execution_count": 171,
     "metadata": {},
     "output_type": "execute_result"
    }
   ],
   "source": [
    "models = pd.DataFrame({\n",
    "    'Model': ['Support Vector Machines', 'KNN', 'Logistic Regression', \n",
    "              'Random Forest', 'Decision Tree', 'ExtraTreesClassifier'],\n",
    "    \n",
    "    'Training_score': [acc_svc, acc_knn, acc_log, acc_random_forest,\n",
    "                       acc_decision_tree, acc_extra_tree],\n",
    "    \n",
    "    'Testing_score' : [svc, knn, log, random_forest,\n",
    "                       decision_tree, extra_tree]})\n",
    "\n",
    "models.sort_values(by='Testing_score', ascending=False)"
   ]
  },
  {
   "cell_type": "code",
   "execution_count": null,
   "id": "0a8e1a59",
   "metadata": {},
   "outputs": [],
   "source": []
  },
  {
   "cell_type": "markdown",
   "id": "85c45a74",
   "metadata": {},
   "source": [
    "# Submission"
   ]
  },
  {
   "cell_type": "code",
   "execution_count": 123,
   "id": "c632f6d5",
   "metadata": {
    "ExecuteTime": {
     "end_time": "2023-09-16T23:19:59.185587Z",
     "start_time": "2023-09-16T23:19:59.149546Z"
    },
    "scrolled": true
   },
   "outputs": [],
   "source": [
    "test_data = pd.read_csv(\"test.csv\")\n",
    "test = test_data.drop(['PassengerId','Name','Ticket','Cabin'] , axis='columns')\n",
    "test['Sex'] = encoder.fit_transform(test['Sex'])\n",
    "test['Embarked'] = encoder.fit_transform(test['Embarked'])\n",
    "imputer = KNNImputer(n_neighbors=2)\n",
    "test = imputer.fit_transform(test)\n",
    "test = pd.DataFrame(test, columns=columns[1:])\n",
    "predictions = etc.predict(test)"
   ]
  },
  {
   "cell_type": "code",
   "execution_count": 124,
   "id": "3601ab68",
   "metadata": {
    "ExecuteTime": {
     "end_time": "2023-09-16T23:19:59.673892Z",
     "start_time": "2023-09-16T23:19:59.656918Z"
    }
   },
   "outputs": [],
   "source": [
    "output = pd.DataFrame({'PassengerId': test_data.PassengerId, 'Survived': predictions})\n",
    "output.to_csv('submission.csv', index=False)"
   ]
  },
  {
   "cell_type": "markdown",
   "id": "0b6c58dd",
   "metadata": {},
   "source": [
    "# Save the model"
   ]
  },
  {
   "cell_type": "code",
   "execution_count": 172,
   "id": "17d789e8",
   "metadata": {
    "ExecuteTime": {
     "end_time": "2023-09-16T23:55:36.858699Z",
     "start_time": "2023-09-16T23:55:36.854045Z"
    }
   },
   "outputs": [],
   "source": [
    "import pickle"
   ]
  },
  {
   "cell_type": "code",
   "execution_count": 178,
   "id": "3bfea3cc",
   "metadata": {
    "ExecuteTime": {
     "end_time": "2023-09-16T23:56:38.270037Z",
     "start_time": "2023-09-16T23:56:38.255271Z"
    }
   },
   "outputs": [],
   "source": [
    "with open('Titanic_model','wb') as file:\n",
    "    pickle.dump(ExtraTreesClassifier,file)"
   ]
  },
  {
   "cell_type": "code",
   "execution_count": null,
   "id": "6a4c3344",
   "metadata": {},
   "outputs": [],
   "source": []
  }
 ],
 "metadata": {
  "kernelspec": {
   "display_name": "Python 3 (ipykernel)",
   "language": "python",
   "name": "python3"
  },
  "language_info": {
   "codemirror_mode": {
    "name": "ipython",
    "version": 3
   },
   "file_extension": ".py",
   "mimetype": "text/x-python",
   "name": "python",
   "nbconvert_exporter": "python",
   "pygments_lexer": "ipython3",
   "version": "3.10.9"
  }
 },
 "nbformat": 4,
 "nbformat_minor": 5
}
